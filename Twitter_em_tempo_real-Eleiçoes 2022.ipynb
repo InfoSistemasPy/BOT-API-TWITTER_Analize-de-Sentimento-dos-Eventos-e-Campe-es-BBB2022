{
 "cells": [
  {
   "cell_type": "markdown",
   "id": "00cbd0a0",
   "metadata": {},
   "source": [
    "# Importando dados do twitter em tempo real\n",
    "\n",
    "- Vamos usar a biblioteca tweepy: <br>\n",
    "    https://docs.tweepy.org/en/stable/\n"
   ]
  },
  {
   "cell_type": "code",
   "execution_count": 1,
   "id": "69adfcae",
   "metadata": {},
   "outputs": [
    {
     "name": "stdout",
     "output_type": "stream",
     "text": [
      "exemplo = 2022-09-11T11:01:01Z2022-09-11T11:01:01Z\n",
      "exemplo = 2022-09-11T13:18:01Z2022-09-11T13:18:01Z\n"
     ]
    }
   ],
   "source": [
    "import tweepy as tw\n",
    "import pandas as pd\n",
    "\n",
    "bearer_token = 'AAAAAAAAAAAAAAAAAAAAAChZZAEAAAAAAlQCiYRgRGTjzRQ1po57pv%2F01wY%3DliOreN8sZlFXNFUHUqd1Muv18zkmzHjtHpO2UhN5XqqTmxVMOj'\n",
    "consumer_key = 'OWCAlenDa9vqb6BzuJui2HDlN'\n",
    "consumer_secret = 'xFxybviIyTUjyJdUJDjrAMI9xfPhSsfn4kDfdlU2i0Q194ZeMv'\n",
    "access_token = '1488328327081476100-pWRPZHouemNznjQxH7EWuCzZFUnUpA'\n",
    "access_token_secret = 'm7NTr2M9g8RyOMqeb52QmmiU9dYCo7NzLM1RdJWPJqlnV'\n",
    "\n",
    "cliente = tw.Client(bearer_token=bearer_token, consumer_key=consumer_key, consumer_secret=consumer_secret, access_token=access_token, access_token_secret=access_token_secret)\n",
    "\n",
    "start = input('exemplo = 2022-09-11T11:01:01Z')\n",
    "end = input('exemplo = 2022-09-11T13:18:01Z')"
   ]
  },
  {
   "cell_type": "code",
   "execution_count": 2,
   "id": "3472dbf7",
   "metadata": {},
   "outputs": [],
   "source": [
    "resposta = cliente.search_recent_tweets(query='eleições 2022',max_results=10,start_time=start,end_time=end)"
   ]
  },
  {
   "cell_type": "code",
   "execution_count": 3,
   "id": "d14a4ec1",
   "metadata": {},
   "outputs": [],
   "source": [
    "dados = resposta.data"
   ]
  },
  {
   "cell_type": "code",
   "execution_count": 4,
   "id": "8edaced4",
   "metadata": {},
   "outputs": [],
   "source": [
    "base = []"
   ]
  },
  {
   "cell_type": "code",
   "execution_count": 5,
   "id": "fb951369",
   "metadata": {},
   "outputs": [],
   "source": [
    "for i in dados:\n",
    "    \n",
    "    linha = [0 for j in range(15)]\n",
    "    \n",
    "    linha[0] = i.text\n",
    "    \n",
    "    texto = i.text\n",
    "    \n",
    "    if('RT' in texto):\n",
    "        posicao = texto.find(':')\n",
    "        texto = texto[posicao+2:]\n",
    "        linha[14] = 1\n",
    "         \n",
    "    linha[1] = 1 if ('Luiz Inácio Lula da Silva' in texto.lower() or 'Luiz Inácio Lula da Silva' in texto.lower() or 'lula' in texto.lower()) else 0\n",
    "    linha[2] = 1 if ('Jair Bolsonaro' in texto.lower() or 'bolsonaro' in texto.lower()) else 0\n",
    "    \n",
    "    linha[3] = 1 if ('Ciro Gomes' in texto.lower() or 'Ciro' in texto.lower()) else 0\n",
    "    \n",
    "    linha[4] = 1 if ('Simone Tebet' in texto.lower() or 'Simone' in texto.lower()) else 0\n",
    "    \n",
    "    linha[5] = 1 if ('Luiz Felipe d’Avila' in texto.lower() or 'd’Avila' in texto.lower()) else 0\n",
    "\n",
    "    \n",
    "    linha[6] = 1 if ('André Janones' in texto.lower() or 'André' in texto.lower()) else 0\n",
    "    \n",
    "    linha[7] = 1 if ('Leonardo Péricles' in texto.lower() or 'Leonardo' in texto.lower()) else 0\n",
    "    \n",
    "    linha[8] = 1 if ('Pablo Marçal' in texto.lower() or 'Pablo' in texto.lower()) else 0\n",
    "    \n",
    "    linha[9] = 1 if ('Vera Lúcia' in texto.lower() or 'Vera' in texto.lower()) else 0\n",
    "    \n",
    "    linha[10] = 1 if ('Sofia Manzano' in texto.lower() or 'Manzano' in texto.lower()) else 0\n",
    "    \n",
    "    linha[11] = 1 if ('Eymael' in texto.lower() or 'Eymael' in texto.lower()) else 0\n",
    "    \n",
    "    linha[12] = 1 if ('PT' in texto.lower() or 'pt' in texto.lower()) else 0\n",
    "    \n",
    "    linha[13] = 1 if ('PL' in texto.lower() or 'pl' in texto.lower()) else 0\n",
    "    \n",
    "    \n",
    "    base.append(linha)"
   ]
  },
  {
   "cell_type": "code",
   "execution_count": 6,
   "id": "6a398f72",
   "metadata": {},
   "outputs": [],
   "source": [
    "base2022 = pd.DataFrame(base)\n",
    "base2022.columns = ['texto','lula','bolsonaro','Ciro','Simone','d’Avila','André','Leonardo','Pablo','Vera','Manzano','Eymael','pt','PL','RT']"
   ]
  },
  {
   "cell_type": "code",
   "execution_count": 23,
   "id": "022fea90",
   "metadata": {},
   "outputs": [],
   "source": [
    "baseView = base2022.drop(['texto','RT'],axis=1)\n"
   ]
  },
  {
   "cell_type": "code",
   "execution_count": 8,
   "id": "58fcdff3",
   "metadata": {},
   "outputs": [],
   "source": [
    "comentarios = baseView.sum().sort_values(ascending=False).to_list()"
   ]
  },
  {
   "cell_type": "code",
   "execution_count": 9,
   "id": "f51910e0",
   "metadata": {},
   "outputs": [],
   "source": [
    "participantes = baseView.sum().sort_values(ascending=False).index.to_list()"
   ]
  },
  {
   "cell_type": "code",
   "execution_count": 10,
   "id": "12885991",
   "metadata": {},
   "outputs": [],
   "source": [
    "base2 = pd.DataFrame(zip(participantes,comentarios))\n",
    "base2.columns = ['pessoas','comentarios']"
   ]
  },
  {
   "cell_type": "code",
   "execution_count": 11,
   "id": "875e358a",
   "metadata": {},
   "outputs": [],
   "source": [
    "total_comentarios = base2['comentarios'].sum()"
   ]
  },
  {
   "cell_type": "code",
   "execution_count": 22,
   "id": "93bcdce0",
   "metadata": {},
   "outputs": [],
   "source": [
    "base2['perc'] = base2['comentarios']/total_comentarios\n"
   ]
  },
  {
   "cell_type": "code",
   "execution_count": 13,
   "id": "714713de",
   "metadata": {},
   "outputs": [],
   "source": [
    "base2['perc_acum'] = base2['perc'].cumsum()"
   ]
  },
  {
   "cell_type": "code",
   "execution_count": 14,
   "id": "8638eeeb",
   "metadata": {},
   "outputs": [],
   "source": [
    "base2['perc_form'] = base2['perc'].map(\"{:.1%}\".format)\n",
    "base2['perc_acum_form'] = base2['perc_acum'].map(\"{:.1%}\".format)"
   ]
  },
  {
   "cell_type": "code",
   "execution_count": 15,
   "id": "05a99728",
   "metadata": {},
   "outputs": [
    {
     "name": "stdout",
     "output_type": "stream",
     "text": [
      "      pessoas  comentarios perc_form perc_acum_form\n",
      "0        lula            3     37.5%          37.5%\n",
      "1   bolsonaro            2     25.0%          62.5%\n",
      "2          pt            2     25.0%          87.5%\n",
      "3          PL            1     12.5%         100.0%\n",
      "4        Ciro            0      0.0%         100.0%\n",
      "5      Simone            0      0.0%         100.0%\n",
      "6     d’Avila            0      0.0%         100.0%\n",
      "7       André            0      0.0%         100.0%\n",
      "8    Leonardo            0      0.0%         100.0%\n",
      "9       Pablo            0      0.0%         100.0%\n",
      "10       Vera            0      0.0%         100.0%\n",
      "11    Manzano            0      0.0%         100.0%\n",
      "12     Eymael            0      0.0%         100.0%\n"
     ]
    }
   ],
   "source": [
    "previsao = base2[['pessoas','comentarios','perc_form','perc_acum_form']]\n",
    "print(previsao)"
   ]
  },
  {
   "cell_type": "code",
   "execution_count": 21,
   "id": "b4cddc5a",
   "metadata": {},
   "outputs": [],
   "source": [
    "arquivo = open('bot_bbb.txt', 'w')\n",
    "arquivo.write(f\"{previsao}\\n\")\n",
    "arquivo.close()      "
   ]
  },
  {
   "cell_type": "code",
   "execution_count": null,
   "id": "aa92e135",
   "metadata": {},
   "outputs": [],
   "source": []
  }
 ],
 "metadata": {
  "kernelspec": {
   "display_name": "Python 3 (ipykernel)",
   "language": "python",
   "name": "python3"
  },
  "language_info": {
   "codemirror_mode": {
    "name": "ipython",
    "version": 3
   },
   "file_extension": ".py",
   "mimetype": "text/x-python",
   "name": "python",
   "nbconvert_exporter": "python",
   "pygments_lexer": "ipython3",
   "version": "3.8.13"
  }
 },
 "nbformat": 4,
 "nbformat_minor": 5
}
